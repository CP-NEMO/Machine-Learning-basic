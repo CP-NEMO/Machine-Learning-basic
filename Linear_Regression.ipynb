{
  "nbformat": 4,
  "nbformat_minor": 0,
  "metadata": {
    "colab": {
      "name": "Linear Regression.ipynb",
      "provenance": [],
      "collapsed_sections": [],
      "authorship_tag": "ABX9TyPsyZwUQrfpZSJuFzsUzFMQ",
      "include_colab_link": true
    },
    "kernelspec": {
      "name": "python3",
      "display_name": "Python 3"
    }
  },
  "cells": [
    {
      "cell_type": "markdown",
      "metadata": {
        "id": "view-in-github",
        "colab_type": "text"
      },
      "source": [
        "<a href=\"https://colab.research.google.com/github/CP-NEMO/Machine-Learning-basic/blob/main/Linear_Regression.ipynb\" target=\"_parent\"><img src=\"https://colab.research.google.com/assets/colab-badge.svg\" alt=\"Open In Colab\"/></a>"
      ]
    },
    {
      "cell_type": "code",
      "metadata": {
        "colab": {
          "base_uri": "https://localhost:8080/",
          "height": 279
        },
        "id": "DGbIsh390QUY",
        "outputId": "f5db926a-b59a-4863-8450-0de454d9b941"
      },
      "source": [
        "# imports\n",
        "import numpy as np\n",
        "import matplotlib.pyplot as plt\n",
        "from sklearn.linear_model import LinearRegression\n",
        "from sklearn.metrics import mean_squared_error, r2_score\n",
        "\n",
        "# generate random data-set\n",
        "np.random.seed(0)\n",
        "x = np.random.rand(100, 1)\n",
        "y = 2 + 3 * x + np.random.rand(100, 1)\n",
        "\n",
        "# plot\n",
        "plt.scatter(x,y,s=10)\n",
        "plt.xlabel('x')\n",
        "plt.ylabel('y')\n",
        "plt.show()\n"
      ],
      "execution_count": null,
      "outputs": [
        {
          "output_type": "display_data",
          "data": {
            "image/png": "[encoded data removed]",
            "text/plain": [
              "<Figure size 432x288 with 1 Axes>"
            ]
          },
          "metadata": {
            "tags": [],
            "needs_background": "light"
          }
        }
      ]
    },
    {
      "cell_type": "code",
      "metadata": {
        "colab": {
          "base_uri": "https://localhost:8080/",
          "height": 346
        },
        "id": "AVFI0OEO2W5G",
        "outputId": "14557f3c-be52-4819-e03a-d2c2bdf0cd4c"
      },
      "source": [
        "# sckit-learn implementation\n",
        "\n",
        "# Model initialization\n",
        "regression_model = LinearRegression()\n",
        "# Fit the data(train the model)\n",
        "regression_model.fit(x, y)\n",
        "# Predict\n",
        "y_predicted = regression_model.predict(x)\n",
        "\n",
        "# model evaluation\n",
        "rmse = mean_squared_error(y, y_predicted)\n",
        "r2 = r2_score(y, y_predicted)\n",
        "\n",
        "# printing values\n",
        "print('Slope:' ,regression_model.coef_)\n",
        "print('Intercept:', regression_model.intercept_)\n",
        "print('Root mean squared error: ', rmse)\n",
        "print('R2 score: ', r2)\n",
        "\n",
        "# plotting values\n",
        "\n",
        "# data points\n",
        "plt.scatter(x, y, s=10)\n",
        "plt.xlabel('x')\n",
        "plt.ylabel('y')\n",
        "\n",
        "# predicted values\n",
        "plt.plot(x, y_predicted, color='r')\n",
        "plt.show()"
      ],
      "execution_count": null,
      "outputs": [
        {
          "output_type": "stream",
          "text": [
            "Slope: [[2.93655106]]\n",
            "Intercept: [2.55808002]\n",
            "Root mean squared error:  0.07623324582875007\n",
            "R2 score:  0.9038655568672764\n"
          ],
          "name": "stdout"
        },
        {
          "output_type": "display_data",
          "data": {
            "image/png": "[encoded data removed]",
            "text/plain": [
              "<Figure size 432x288 with 1 Axes>"
            ]
          },
          "metadata": {
            "tags": [],
            "needs_background": "light"
          }
        }
      ]
    }
  ]
}